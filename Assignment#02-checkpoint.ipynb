{
 "cells": [
  {
   "cell_type": "code",
   "execution_count": 15,
   "metadata": {},
   "outputs": [
    {
     "name": "stdout",
     "output_type": "stream",
     "text": [
      "Enter the marks of maths:59\n",
      "Enter the marks of physics:97\n",
      "Enter the marks of chemistry:77\n",
      "Enter the marks of bio:56\n",
      "Enter the marks of english:76\n",
      "YOUR GRADE IS B\n"
     ]
    }
   ],
   "source": [
    "#01:Write a program which takes 5 inputs from user for different subject’s marks, total it and generate mark sheet using grades ? \n",
    "\n",
    "subjects=['maths','physics','chemistry', 'bio', 'english']\n",
    "Marklist=[]\n",
    "for i in subjects:\n",
    "     Marks=int(input(\"Enter the marks of %s:\" % i))\n",
    "     Marklist.append(Marks)\n",
    "     Total_marks=sum(Marklist)\n",
    "     Average=Total_marks/5.0\n",
    "if Average<=100 and Average>90:\n",
    " print(\"Grade A+\")\n",
    "elif Average>=80 and Average<90:\n",
    " print(\"Grade A\")\n",
    "elif Average<=80 and Average>70:\n",
    " print(\"YOUR GRADE IS B\")\n",
    "elif Average<=70 and Average>60:\n",
    " print(\"Grade C\")\n",
    "else:\n",
    " print(\"You are fail\")"
   ]
  },
  {
   "cell_type": "code",
   "execution_count": 16,
   "metadata": {},
   "outputs": [
    {
     "name": "stdout",
     "output_type": "stream",
     "text": [
      "Enter the number=6\n",
      "The given number is even\n"
     ]
    }
   ],
   "source": [
    "#02 Write a program which take input from user and identify that the given number is even or odd? \n",
    "Num=int(input(\"Enter the number=\"))\n",
    "if Num % 2==0:\n",
    "   print(\"The given number is even\")\n",
    "else:\n",
    "   print(\"The given number is odd\")\n"
   ]
  },
  {
   "cell_type": "code",
   "execution_count": 17,
   "metadata": {},
   "outputs": [
    {
     "data": {
      "text/plain": [
       "9"
      ]
     },
     "execution_count": 17,
     "metadata": {},
     "output_type": "execute_result"
    }
   ],
   "source": [
    "#03.Write a program which print the length of the list? \n",
    "list=[2,3,4,5,6,7,8,9,10] #I have created any random list to find its length\n",
    "len(list)\n"
   ]
  },
  {
   "cell_type": "code",
   "execution_count": 19,
   "metadata": {},
   "outputs": [
    {
     "name": "stdout",
     "output_type": "stream",
     "text": [
      "The sum of all the numeric elements in the list is: 36.5\n"
     ]
    }
   ],
   "source": [
    "#04.Write a Python program to sum all the numeric items in a list?\n",
    "lst=[4,5,10,2,7,8,.5]\n",
    "print('The sum of all the numeric elements in the list is:',sum(lst))"
   ]
  },
  {
   "cell_type": "code",
   "execution_count": 20,
   "metadata": {},
   "outputs": [
    {
     "name": "stdout",
     "output_type": "stream",
     "text": [
      "The largest value of the list: 99\n"
     ]
    }
   ],
   "source": [
    "#05.Write a Python program to get the largest number from a numeric list. \n",
    "#first we create the any Random list to get the largest number in it.\n",
    "list1=[15,45,89,13,40,56,99]\n",
    "print(\"The largest value of the list:\",max(list1))"
   ]
  },
  {
   "cell_type": "code",
   "execution_count": 21,
   "metadata": {},
   "outputs": [
    {
     "name": "stdout",
     "output_type": "stream",
     "text": [
      "1\n",
      "1\n",
      "2\n",
      "3\n"
     ]
    }
   ],
   "source": [
    "#06.Take a list, say for example this one: \n",
    "#   a = [1, 1, 2, 3, 5, 8, 13, 21, 34, 55, 89] \n",
    "#and write a program that prints out all the elements of the list that are less than 5. \n",
    "a = [1, 1, 2, 3, 5, 8, 13, 21, 34, 55, 89]  \n",
    "for x in a :\n",
    "    if x<5:\n",
    "      print(x)\n"
   ]
  },
  {
   "cell_type": "code",
   "execution_count": null,
   "metadata": {},
   "outputs": [],
   "source": []
  }
 ],
 "metadata": {
  "kernelspec": {
   "display_name": "Python 3",
   "language": "python",
   "name": "python3"
  },
  "language_info": {
   "codemirror_mode": {
    "name": "ipython",
    "version": 3
   },
   "file_extension": ".py",
   "mimetype": "text/x-python",
   "name": "python",
   "nbconvert_exporter": "python",
   "pygments_lexer": "ipython3",
   "version": "3.7.4"
  }
 },
 "nbformat": 4,
 "nbformat_minor": 2
}
